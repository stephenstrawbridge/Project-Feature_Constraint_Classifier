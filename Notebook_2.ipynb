{
 "cells": [
  {
   "cell_type": "markdown",
   "metadata": {},
   "source": [
    "<img src=\"http://imgur.com/1ZcRyrc.png\" style=\"float: left; margin: 20px; height: 55px\">\n",
    "\n",
    "# Project 4: Hackathon - Good Fast Cheap\n",
    "## Notebook 2 - Best Model\n",
    "Group members:  Stephen Strawbridge, Michael Winder, Max Bossee, Aziz Maredia<br>Cohort #1019"
   ]
  },
  {
   "cell_type": "markdown",
   "metadata": {},
   "source": [
    "\n",
    "---\n",
    "## Imports & Data Cleaning"
   ]
  },
  {
   "cell_type": "code",
   "execution_count": 1,
   "metadata": {
    "jupyter": {
     "source_hidden": true
    }
   },
   "outputs": [],
   "source": [
    "import pandas as pd\n",
    "import matplotlib.pyplot as plt\n",
    "import seaborn as sns\n",
    "\n",
    "from sklearn.model_selection import train_test_split, cross_val_score\n",
    "\n",
    "from sklearn.model_selection import train_test_split, cross_val_score\n",
    "from sklearn.linear_model import LogisticRegression\n",
    "from sklearn.neighbors import KNeighborsClassifier\n",
    "from sklearn.tree import DecisionTreeClassifier\n",
    "from sklearn.ensemble import BaggingClassifier, RandomForestClassifier, AdaBoostClassifier\n",
    "from sklearn.svm import SVC\n",
    "from sklearn.preprocessing import StandardScaler"
   ]
  },
  {
   "cell_type": "code",
   "execution_count": 2,
   "metadata": {
    "jupyter": {
     "source_hidden": true
    }
   },
   "outputs": [],
   "source": [
    "#Read in data\n",
    "df = pd.read_csv('./data/large_train_sample.csv')\n",
    "df_clean = pd.read_csv('./data/large_train_sample.csv')"
   ]
  },
  {
   "cell_type": "code",
   "execution_count": null,
   "metadata": {
    "jupyter": {
     "source_hidden": true
    }
   },
   "outputs": [],
   "source": [
    "df_clean.columns"
   ]
  },
  {
   "cell_type": "code",
   "execution_count": null,
   "metadata": {
    "jupyter": {
     "source_hidden": true
    }
   },
   "outputs": [],
   "source": [
    "#check out data info (no nulls found)\n",
    "df.info()\n",
    "\n",
    "#Data integrity of datatypes is all good as well"
   ]
  },
  {
   "cell_type": "code",
   "execution_count": 5,
   "metadata": {
    "jupyter": {
     "source_hidden": true
    }
   },
   "outputs": [],
   "source": [
    "#Dataframe is now clean and ready for feature engineering!"
   ]
  },
  {
   "cell_type": "markdown",
   "metadata": {},
   "source": [
    "## Feature Engineering"
   ]
  },
  {
   "cell_type": "code",
   "execution_count": 6,
   "metadata": {
    "jupyter": {
     "source_hidden": true
    }
   },
   "outputs": [],
   "source": [
    "#Feature engineer a 'net_capital' feature with the net sum of capital gain and capital loss\n",
    "df['net_capital'] = df['capital-gain'] - df['capital-loss']\n",
    "\n",
    "#Now drop capital-gain and capital-loss columns\n",
    "df = df.drop(columns=['capital-gain', 'capital-loss'])"
   ]
  },
  {
   "cell_type": "code",
   "execution_count": 7,
   "metadata": {
    "jupyter": {
     "source_hidden": true
    }
   },
   "outputs": [],
   "source": [
    "#Binarize sex into male and female\n",
    "df['sex'] = df['sex'].map({' Male': 1, ' Female' : 0})"
   ]
  },
  {
   "cell_type": "code",
   "execution_count": 8,
   "metadata": {
    "jupyter": {
     "source_hidden": true
    }
   },
   "outputs": [],
   "source": [
    "#Create target column\n",
    "df['target'] = df['wage'].map({' >50K': 1, ' <=50K' : 0})\n",
    "#Create target column\n",
    "df_clean['target'] = df_clean['wage'].map({' >50K': 1, ' <=50K' : 0})"
   ]
  },
  {
   "cell_type": "code",
   "execution_count": 9,
   "metadata": {
    "jupyter": {
     "source_hidden": true
    }
   },
   "outputs": [],
   "source": [
    "#Drop education column, because education number feature is essentially giving us the same information in numerical format\n",
    "df = df.drop(columns='education')"
   ]
  },
  {
   "cell_type": "code",
   "execution_count": 10,
   "metadata": {
    "jupyter": {
     "source_hidden": true
    }
   },
   "outputs": [],
   "source": [
    "#Dataframe is now ready for train-test-split\n",
    "df.to_csv('cleaned_df.csv')"
   ]
  },
  {
   "cell_type": "code",
   "execution_count": 11,
   "metadata": {
    "jupyter": {
     "source_hidden": true
    }
   },
   "outputs": [],
   "source": [
    "#Define X and y and do train-test-split\n",
    "X = df.drop(columns=['wage'])\n",
    "y = df['target']\n",
    "\n",
    "X_train, X_test, y_train, y_test = train_test_split(X, y, test_size = 0.2, random_state=1)"
   ]
  },
  {
   "cell_type": "code",
   "execution_count": 12,
   "metadata": {
    "jupyter": {
     "source_hidden": true
    }
   },
   "outputs": [],
   "source": [
    "#Create function that maps the 'target' mean to each value in categorical columns\n",
    "occ_num = list(X_train.groupby(by='occupation')['target'].mean())\n",
    "\n",
    "occ_list = list(X_train['occupation'].sort_values().unique())\n",
    "occ_list\n",
    "occ_dict = dict(zip(occ_list, occ_num))"
   ]
  },
  {
   "cell_type": "code",
   "execution_count": 13,
   "metadata": {
    "jupyter": {
     "source_hidden": true
    }
   },
   "outputs": [],
   "source": [
    "#Features to map\n",
    "map_features = ['workclass', 'marital-status', 'occupation', 'relationship', 'native-country']"
   ]
  },
  {
   "cell_type": "code",
   "execution_count": 14,
   "metadata": {
    "jupyter": {
     "source_hidden": true
    }
   },
   "outputs": [
    {
     "name": "stderr",
     "output_type": "stream",
     "text": [
      "<ipython-input-14-018e3a0f82e5>:11: SettingWithCopyWarning: \n",
      "A value is trying to be set on a copy of a slice from a DataFrame.\n",
      "Try using .loc[row_indexer,col_indexer] = value instead\n",
      "\n",
      "See the caveats in the documentation: https://pandas.pydata.org/pandas-docs/stable/user_guide/indexing.html#returning-a-view-versus-a-copy\n",
      "  X_train[feature]=  X_train[feature].map(feat_dict)\n"
     ]
    }
   ],
   "source": [
    "map_dicts = {}\n",
    "for feature in map_features:\n",
    "    \n",
    "    feat_num = list(X_train.groupby(by=feature)['target'].mean())\n",
    "    feat_list = list(X_train[feature].sort_values().unique())\n",
    "    feat_dict = dict(zip(feat_list, feat_num))\n",
    "    #map_dicts.append(feat_dict)\n",
    "    \n",
    "    map_dicts[feature] = feat_dict\n",
    "    \n",
    "    X_train[feature]=  X_train[feature].map(feat_dict)\n",
    "        \n"
   ]
  },
  {
   "cell_type": "code",
   "execution_count": null,
   "metadata": {
    "jupyter": {
     "source_hidden": true
    }
   },
   "outputs": [],
   "source": [
    "#Check on status\n",
    "X_train.head(5)"
   ]
  },
  {
   "cell_type": "code",
   "execution_count": 16,
   "metadata": {
    "jupyter": {
     "source_hidden": true
    }
   },
   "outputs": [
    {
     "name": "stderr",
     "output_type": "stream",
     "text": [
      "<ipython-input-16-a48ad192c8b5>:2: SettingWithCopyWarning: \n",
      "A value is trying to be set on a copy of a slice from a DataFrame.\n",
      "Try using .loc[row_indexer,col_indexer] = value instead\n",
      "\n",
      "See the caveats in the documentation: https://pandas.pydata.org/pandas-docs/stable/user_guide/indexing.html#returning-a-view-versus-a-copy\n",
      "  X_test[feature]=  X_test[feature].map(map_dicts[feature])\n"
     ]
    }
   ],
   "source": [
    "for feature in map_features:  \n",
    "    X_test[feature]=  X_test[feature].map(map_dicts[feature])"
   ]
  },
  {
   "cell_type": "code",
   "execution_count": 17,
   "metadata": {
    "jupyter": {
     "source_hidden": true
    }
   },
   "outputs": [],
   "source": [
    "#It was noted that X_test had one null value - drop this row\n",
    "X_test = X_test.dropna()\n",
    "\n",
    "#In order to drop same row in y_test, reset the y_test variable with updated X_test\n",
    "y_test = X_test['target']"
   ]
  },
  {
   "cell_type": "code",
   "execution_count": 18,
   "metadata": {},
   "outputs": [
    {
     "name": "stdout",
     "output_type": "stream",
     "text": [
      "AdaBoostClassifier(n_estimators=500)\n",
      "Training Score: 0.8725\n",
      "Testing Score: 0.8692\n",
      "\n"
     ]
    }
   ],
   "source": [
    "# Lets make a dictionary to automate my modelling - Source code from Michael Winder\n",
    "log = LogisticRegression()\n",
    "knnc = KNeighborsClassifier()\n",
    "dtc = DecisionTreeClassifier()\n",
    "bagc = BaggingClassifier()\n",
    "#rfc = RandomForestClassifier()\n",
    "adac = AdaBoostClassifier(n_estimators=500)\n",
    "#svc = SVC()\n",
    "\n",
    "models = {\n",
    "#     'log' : log,\n",
    "#     'knn' : knnc,\n",
    "#     'dt' : dtc,\n",
    "#     'bag' : bagc,\n",
    " #   'rf' : rfc,\n",
    "    'ada' : adac,\n",
    "#    'svr' : svc\n",
    "}\n",
    "\n",
    "#Ensure X_train and y_train variables are appropiate\n",
    "X_train = X_train.drop(columns=['target'])\n",
    "X_test = X_test.drop(columns=['target'])\n",
    "\n",
    "for est in models.values():\n",
    "    print(est)\n",
    "    est.fit(X_train, y_train)\n",
    "    print(f'Training Score: {round(est.score(X_train, y_train), 4)}')\n",
    "    print(f'Testing Score: {round(est.score(X_test, y_test), 4)}')\n",
    "    print('')"
   ]
  },
  {
   "cell_type": "markdown",
   "metadata": {},
   "source": [
    "\n",
    "---\n",
    "## Visualizations"
   ]
  },
  {
   "cell_type": "code",
   "execution_count": 19,
   "metadata": {},
   "outputs": [
    {
     "data": {
      "text/plain": [
       "array([' Never-married', ' Married-civ-spouse', ' Divorced',\n",
       "       ' Married-spouse-absent', ' Separated', ' Married-AF-spouse',\n",
       "       ' Widowed'], dtype=object)"
      ]
     },
     "execution_count": 19,
     "metadata": {},
     "output_type": "execute_result"
    }
   ],
   "source": [
    "df_clean['marital-status'].unique()"
   ]
  },
  {
   "cell_type": "code",
   "execution_count": 20,
   "metadata": {},
   "outputs": [
    {
     "data": {
      "text/plain": [
       "marital-status\n",
       " Divorced                 0.104209\n",
       " Married-AF-spouse        0.434783\n",
       " Married-civ-spouse       0.446848\n",
       " Married-spouse-absent    0.081340\n",
       " Never-married            0.045961\n",
       " Separated                0.064390\n",
       " Widowed                  0.085599\n",
       "Name: target, dtype: float64"
      ]
     },
     "execution_count": 20,
     "metadata": {},
     "output_type": "execute_result"
    }
   ],
   "source": [
    "df_clean.groupby(by='marital-status')['target'].mean()"
   ]
  },
  {
   "cell_type": "code",
   "execution_count": 21,
   "metadata": {},
   "outputs": [
    {
     "data": {
      "text/html": [
       "<div>\n",
       "<style scoped>\n",
       "    .dataframe tbody tr th:only-of-type {\n",
       "        vertical-align: middle;\n",
       "    }\n",
       "\n",
       "    .dataframe tbody tr th {\n",
       "        vertical-align: top;\n",
       "    }\n",
       "\n",
       "    .dataframe thead th {\n",
       "        text-align: right;\n",
       "    }\n",
       "</style>\n",
       "<table border=\"1\" class=\"dataframe\">\n",
       "  <thead>\n",
       "    <tr style=\"text-align: right;\">\n",
       "      <th></th>\n",
       "      <th>mean</th>\n",
       "    </tr>\n",
       "    <tr>\n",
       "      <th>marital-status</th>\n",
       "      <th></th>\n",
       "    </tr>\n",
       "  </thead>\n",
       "  <tbody>\n",
       "    <tr>\n",
       "      <th>Never-married</th>\n",
       "      <td>0.045961</td>\n",
       "    </tr>\n",
       "    <tr>\n",
       "      <th>Separated</th>\n",
       "      <td>0.064390</td>\n",
       "    </tr>\n",
       "    <tr>\n",
       "      <th>Married-spouse-absent</th>\n",
       "      <td>0.081340</td>\n",
       "    </tr>\n",
       "    <tr>\n",
       "      <th>Widowed</th>\n",
       "      <td>0.085599</td>\n",
       "    </tr>\n",
       "    <tr>\n",
       "      <th>Divorced</th>\n",
       "      <td>0.104209</td>\n",
       "    </tr>\n",
       "    <tr>\n",
       "      <th>Married-AF-spouse</th>\n",
       "      <td>0.434783</td>\n",
       "    </tr>\n",
       "    <tr>\n",
       "      <th>Married-civ-spouse</th>\n",
       "      <td>0.446848</td>\n",
       "    </tr>\n",
       "  </tbody>\n",
       "</table>\n",
       "</div>"
      ],
      "text/plain": [
       "                            mean\n",
       "marital-status                  \n",
       " Never-married          0.045961\n",
       " Separated              0.064390\n",
       " Married-spouse-absent  0.081340\n",
       " Widowed                0.085599\n",
       " Divorced               0.104209\n",
       " Married-AF-spouse      0.434783\n",
       " Married-civ-spouse     0.446848"
      ]
     },
     "execution_count": 21,
     "metadata": {},
     "output_type": "execute_result"
    }
   ],
   "source": [
    "ms_plot = pd.DataFrame()\n",
    "ms_plot['mean'] =  df_clean.groupby(by='marital-status')['target'].mean().sort_values()\n",
    "ms_plot"
   ]
  },
  {
   "cell_type": "code",
   "execution_count": 22,
   "metadata": {},
   "outputs": [
    {
     "data": {
      "text/plain": [
       "<Figure size 864x576 with 0 Axes>"
      ]
     },
     "metadata": {},
     "output_type": "display_data"
    },
    {
     "data": {
      "image/png": "[encoded data removed]",
      "text/plain": [
       "<Figure size 864x576 with 1 Axes>"
      ]
     },
     "metadata": {
      "needs_background": "light"
     },
     "output_type": "display_data"
    }
   ],
   "source": [
    "# Create a plot showing the frequency of words used by subreddit\n",
    "# https://python-graph-gallery.com/11-grouped-barplot/\n",
    "plt.figure(figsize=(12,8))\n",
    "\n",
    "# set width of bar\n",
    "barWidth = 0.45\n",
    " \n",
    "# Set position of bar on X axis\n",
    "rac = [x + barWidth*1.0 for x in range(len(ms_plot))]\n",
    " \n",
    "# Make the plot\n",
    "plt.figure(figsize=(12,8))\n",
    "plt.barh(rac, ms_plot['mean'], color='#f0a800', height=barWidth)\n",
    " \n",
    "# Add xticks on the middle of the group bars\n",
    "plt.title('Marital Status Income', fontsize=30, color='#737373')\n",
    "plt.xlabel('Probability of Income >50k', fontsize=20, color='#737373')\n",
    "plt.yticks([r + barWidth for r in range(len(ms_plot))], ms_plot.index, fontsize=20, color='#737373')\n",
    "plt.xticks(fontsize=16, color='#737373')\n",
    "\n",
    "plt.gcf().subplots_adjust(left=0.30)\n",
    "\n",
    "plt.savefig(\"./marital_status_income.png\");"
   ]
  },
  {
   "cell_type": "code",
   "execution_count": 23,
   "metadata": {},
   "outputs": [
    {
     "data": {
      "text/plain": [
       "0    0.75919\n",
       "1    0.24081\n",
       "Name: target, dtype: float64"
      ]
     },
     "execution_count": 23,
     "metadata": {},
     "output_type": "execute_result"
    }
   ],
   "source": [
    "df_clean['target'].value_counts(normalize=True)"
   ]
  },
  {
   "cell_type": "markdown",
   "metadata": {},
   "source": [
    "---\n",
    "## Conclusions/Submissions with Adaboost"
   ]
  },
  {
   "cell_type": "code",
   "execution_count": 24,
   "metadata": {},
   "outputs": [],
   "source": [
    "final = pd.read_csv('./data/test_data.csv')\n",
    "\n",
    "#Feature engineer a 'net_capital' feature with the net sum of capital gain and capital loss\n",
    "final['net_capital'] = final['capital-gain'] - final['capital-loss']\n",
    "\n",
    "#Now drop capital-gain and capital-loss columns\n",
    "final = final.drop(columns=['capital-gain', 'capital-loss'])\n",
    "\n",
    "#Binarize sex into male and female\n",
    "final['sex'] = final['sex'].map({' Male': 1, ' Female' : 0})\n",
    "\n",
    "#Drop education column, because education number feature is essentially giving us the same information in numerical format\n",
    "final = final.drop(columns='education')\n",
    "\n",
    "for feature in map_features:  \n",
    "    final[feature]=  final[feature].map(map_dicts[feature])"
   ]
  },
  {
   "cell_type": "code",
   "execution_count": 25,
   "metadata": {},
   "outputs": [
    {
     "data": {
      "text/html": [
       "<div>\n",
       "<style scoped>\n",
       "    .dataframe tbody tr th:only-of-type {\n",
       "        vertical-align: middle;\n",
       "    }\n",
       "\n",
       "    .dataframe tbody tr th {\n",
       "        vertical-align: top;\n",
       "    }\n",
       "\n",
       "    .dataframe thead th {\n",
       "        text-align: right;\n",
       "    }\n",
       "</style>\n",
       "<table border=\"1\" class=\"dataframe\">\n",
       "  <thead>\n",
       "    <tr style=\"text-align: right;\">\n",
       "      <th></th>\n",
       "      <th>age</th>\n",
       "      <th>workclass</th>\n",
       "      <th>fnlwgt</th>\n",
       "      <th>education-num</th>\n",
       "      <th>marital-status</th>\n",
       "      <th>occupation</th>\n",
       "      <th>relationship</th>\n",
       "      <th>sex</th>\n",
       "      <th>hours-per-week</th>\n",
       "      <th>native-country</th>\n",
       "      <th>net_capital</th>\n",
       "    </tr>\n",
       "  </thead>\n",
       "  <tbody>\n",
       "    <tr>\n",
       "      <th>0</th>\n",
       "      <td>25</td>\n",
       "      <td>0.221744</td>\n",
       "      <td>226802</td>\n",
       "      <td>7</td>\n",
       "      <td>0.046879</td>\n",
       "      <td>0.129032</td>\n",
       "      <td>0.013213</td>\n",
       "      <td>1</td>\n",
       "      <td>40</td>\n",
       "      <td>0.249078</td>\n",
       "      <td>0</td>\n",
       "    </tr>\n",
       "    <tr>\n",
       "      <th>1</th>\n",
       "      <td>38</td>\n",
       "      <td>0.221744</td>\n",
       "      <td>89814</td>\n",
       "      <td>9</td>\n",
       "      <td>0.452808</td>\n",
       "      <td>0.118404</td>\n",
       "      <td>0.453744</td>\n",
       "      <td>1</td>\n",
       "      <td>50</td>\n",
       "      <td>0.249078</td>\n",
       "      <td>0</td>\n",
       "    </tr>\n",
       "    <tr>\n",
       "      <th>2</th>\n",
       "      <td>28</td>\n",
       "      <td>0.295374</td>\n",
       "      <td>336951</td>\n",
       "      <td>12</td>\n",
       "      <td>0.452808</td>\n",
       "      <td>0.329567</td>\n",
       "      <td>0.453744</td>\n",
       "      <td>1</td>\n",
       "      <td>40</td>\n",
       "      <td>0.249078</td>\n",
       "      <td>0</td>\n",
       "    </tr>\n",
       "    <tr>\n",
       "      <th>3</th>\n",
       "      <td>44</td>\n",
       "      <td>0.221744</td>\n",
       "      <td>160323</td>\n",
       "      <td>10</td>\n",
       "      <td>0.452808</td>\n",
       "      <td>0.129032</td>\n",
       "      <td>0.453744</td>\n",
       "      <td>1</td>\n",
       "      <td>40</td>\n",
       "      <td>0.249078</td>\n",
       "      <td>7688</td>\n",
       "    </tr>\n",
       "    <tr>\n",
       "      <th>4</th>\n",
       "      <td>18</td>\n",
       "      <td>0.102249</td>\n",
       "      <td>103497</td>\n",
       "      <td>10</td>\n",
       "      <td>0.046879</td>\n",
       "      <td>0.101833</td>\n",
       "      <td>0.013213</td>\n",
       "      <td>0</td>\n",
       "      <td>30</td>\n",
       "      <td>0.249078</td>\n",
       "      <td>0</td>\n",
       "    </tr>\n",
       "  </tbody>\n",
       "</table>\n",
       "</div>"
      ],
      "text/plain": [
       "   age  workclass  fnlwgt  education-num  marital-status  occupation  \\\n",
       "0   25   0.221744  226802              7        0.046879    0.129032   \n",
       "1   38   0.221744   89814              9        0.452808    0.118404   \n",
       "2   28   0.295374  336951             12        0.452808    0.329567   \n",
       "3   44   0.221744  160323             10        0.452808    0.129032   \n",
       "4   18   0.102249  103497             10        0.046879    0.101833   \n",
       "\n",
       "   relationship  sex  hours-per-week  native-country  net_capital  \n",
       "0      0.013213    1              40        0.249078            0  \n",
       "1      0.453744    1              50        0.249078            0  \n",
       "2      0.453744    1              40        0.249078            0  \n",
       "3      0.453744    1              40        0.249078         7688  \n",
       "4      0.013213    0              30        0.249078            0  "
      ]
     },
     "execution_count": 25,
     "metadata": {},
     "output_type": "execute_result"
    }
   ],
   "source": [
    "final.head()"
   ]
  },
  {
   "cell_type": "code",
   "execution_count": 26,
   "metadata": {},
   "outputs": [],
   "source": [
    "#Predict on model ONLY using AdaBoost model\n",
    "pred = models['ada'].predict(final)"
   ]
  },
  {
   "cell_type": "code",
   "execution_count": 27,
   "metadata": {},
   "outputs": [
    {
     "data": {
      "text/plain": [
       "array([0, 0, 0, 1, 0, 0, 0, 1, 0, 0, 1, 1, 0, 0, 1, 1, 0, 0, 0, 1, 1, 0,\n",
       "       0, 0, 0, 1, 0, 0, 0, 0, 1, 0, 0, 0, 0, 0, 1, 0, 0, 0, 1, 1, 0, 0,\n",
       "       0, 0, 0, 0, 0, 0], dtype=int64)"
      ]
     },
     "execution_count": 27,
     "metadata": {},
     "output_type": "execute_result"
    }
   ],
   "source": [
    "pred[:50]"
   ]
  },
  {
   "cell_type": "code",
   "execution_count": 28,
   "metadata": {},
   "outputs": [],
   "source": [
    "pred = models['ada'].predict(final)\n",
    "submission = pd.DataFrame(pred)\n",
    "submission.to_csv('2-group-submission.csv', index=False)"
   ]
  },
  {
   "cell_type": "code",
   "execution_count": null,
   "metadata": {},
   "outputs": [],
   "source": []
  }
 ],
 "metadata": {
  "kernelspec": {
   "display_name": "Python 3",
   "language": "python",
   "name": "python3"
  },
  "language_info": {
   "codemirror_mode": {
    "name": "ipython",
    "version": 3
   },
   "file_extension": ".py",
   "mimetype": "text/x-python",
   "name": "python",
   "nbconvert_exporter": "python",
   "pygments_lexer": "ipython3",
   "version": "3.8.3"
  }
 },
 "nbformat": 4,
 "nbformat_minor": 4
}
